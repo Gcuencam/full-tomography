{
 "cells": [
  {
   "cell_type": "code",
   "execution_count": 3,
   "id": "bd68afb9-9c2a-4e2b-914f-c6334eac5ca4",
   "metadata": {},
   "outputs": [],
   "source": [
    "# Create the X-measurement function:\n",
    "def x_measurement(qc, qubit, cbit):\n",
    "    \"\"\"Measure 'qubit' in the X-basis, and store the result in 'cbit'\"\"\"\n",
    "    qc.h(qubit)\n",
    "    qc.measure(qubit, cbit)\n",
    "    return qc\n",
    "\n",
    "# Create the Y-measurement function:\n",
    "def y_measurement(qc, qubit, cbit):\n",
    "    \"\"\"Measure 'qubit' in the X-basis, and store the result in 'cbit'\"\"\"\n",
    "    qc.sdg(qubit)\n",
    "    qc.h(qubit)\n",
    "    qc.measure(qubit, cbit)\n",
    "    return qc"
   ]
  },
  {
   "cell_type": "code",
   "execution_count": null,
   "id": "cfdfd0a3-ae09-41a9-a2ef-529b72981d45",
   "metadata": {},
   "outputs": [],
   "source": []
  }
 ],
 "metadata": {
  "kernelspec": {
   "display_name": "Qiskit v0.34.2 (ipykernel)",
   "language": "python",
   "name": "python3"
  },
  "language_info": {
   "codemirror_mode": {
    "name": "ipython",
    "version": 3
   },
   "file_extension": ".py",
   "mimetype": "text/x-python",
   "name": "python",
   "nbconvert_exporter": "python",
   "pygments_lexer": "ipython3",
   "version": "3.8.12"
  },
  "widgets": {
   "application/vnd.jupyter.widget-state+json": {
    "state": {
     "0ac4b42cd6474c728aca0865494c9e86": {
      "model_module": "@jupyter-widgets/controls",
      "model_module_version": "1.5.0",
      "model_name": "DescriptionStyleModel",
      "state": {
       "description_width": ""
      }
     },
     "1f013beaa1dc4575b9cede0e111021fe": {
      "model_module": "@jupyter-widgets/controls",
      "model_module_version": "1.5.0",
      "model_name": "HBoxModel",
      "state": {
       "children": [
        "IPY_MODEL_9bdd8081acae4af2a8b9615b131567d1",
        "IPY_MODEL_d1a4505c9c04493982b855447af2296d",
        "IPY_MODEL_f40dbac2daf54138b5bb414eadae1b82",
        "IPY_MODEL_74a120bed8654a00a0a817189aacbb02",
        "IPY_MODEL_70a7baacea364c4fa134eaed9c2c1bbc"
       ],
       "layout": "IPY_MODEL_82a3371b007a49519d6e3db33fbb3bf9"
      }
     },
     "266e5ce93c8e4e10b330a1c4da889c26": {
      "model_module": "@jupyter-widgets/controls",
      "model_module_version": "1.5.0",
      "model_name": "DescriptionStyleModel",
      "state": {
       "description_width": ""
      }
     },
     "26d664ed3f6e44b680e62a25f12ebdd7": {
      "model_module": "@jupyter-widgets/base",
      "model_module_version": "1.2.0",
      "model_name": "LayoutModel",
      "state": {
       "width": "70px"
      }
     },
     "3e041bb322174ee9be611c1e4af108f2": {
      "model_module": "@jupyter-widgets/controls",
      "model_module_version": "1.5.0",
      "model_name": "DescriptionStyleModel",
      "state": {
       "description_width": ""
      }
     },
     "44158c53f72e44519ff9889fe0e0acfe": {
      "model_module": "@jupyter-widgets/base",
      "model_module_version": "1.2.0",
      "model_name": "LayoutModel",
      "state": {
       "grid_template_areas": "\n                                       \". . . . right \"\n                                        ",
       "grid_template_columns": "20% 20% 20% 20% 20%",
       "width": "100%"
      }
     },
     "5c7208f94e7848b3b50df3a5b09ca19b": {
      "model_module": "@jupyter-widgets/controls",
      "model_module_version": "1.5.0",
      "model_name": "DescriptionStyleModel",
      "state": {
       "description_width": ""
      }
     },
     "6654b9fb03974e8fac16af82c2688af9": {
      "model_module": "@jupyter-widgets/controls",
      "model_module_version": "1.5.0",
      "model_name": "DescriptionStyleModel",
      "state": {
       "description_width": ""
      }
     },
     "6d59bff33f7646c4936502859886116c": {
      "model_module": "@jupyter-widgets/controls",
      "model_module_version": "1.5.0",
      "model_name": "ButtonStyleModel",
      "state": {}
     },
     "70a7baacea364c4fa134eaed9c2c1bbc": {
      "model_module": "@jupyter-widgets/controls",
      "model_module_version": "1.5.0",
      "model_name": "HTMLModel",
      "state": {
       "layout": "IPY_MODEL_dd98df25e07c4171a940da31ce0046f4",
       "style": "IPY_MODEL_5c7208f94e7848b3b50df3a5b09ca19b",
       "value": "<h5>Message</h5>"
      }
     },
     "74a120bed8654a00a0a817189aacbb02": {
      "model_module": "@jupyter-widgets/controls",
      "model_module_version": "1.5.0",
      "model_name": "HTMLModel",
      "state": {
       "layout": "IPY_MODEL_26d664ed3f6e44b680e62a25f12ebdd7",
       "style": "IPY_MODEL_e187bdc84b1d42e7995d84e23dbdfda8",
       "value": "<h5>Queue</h5>"
      }
     },
     "82a3371b007a49519d6e3db33fbb3bf9": {
      "model_module": "@jupyter-widgets/base",
      "model_module_version": "1.2.0",
      "model_name": "LayoutModel",
      "state": {
       "margin": "0px 0px 0px 37px",
       "width": "600px"
      }
     },
     "97f3b368455c4171abff87f6d87c80c7": {
      "model_module": "@jupyter-widgets/controls",
      "model_module_version": "1.5.0",
      "model_name": "GridBoxModel",
      "state": {
       "children": [
        "IPY_MODEL_e440a265db504628acc6564530f2048b"
       ],
       "layout": "IPY_MODEL_44158c53f72e44519ff9889fe0e0acfe"
      }
     },
     "99b0630f5f36429896c1c9c920a89121": {
      "model_module": "@jupyter-widgets/base",
      "model_module_version": "1.2.0",
      "model_name": "LayoutModel",
      "state": {
       "width": "145px"
      }
     },
     "9bdd8081acae4af2a8b9615b131567d1": {
      "model_module": "@jupyter-widgets/controls",
      "model_module_version": "1.5.0",
      "model_name": "HTMLModel",
      "state": {
       "layout": "IPY_MODEL_bbdd5be85dd247b4bb84350d0f9c1962",
       "style": "IPY_MODEL_6654b9fb03974e8fac16af82c2688af9",
       "value": "<h5>Job ID</h5>"
      }
     },
     "aa40b2775b0c4529a0fd2d9676255324": {
      "model_module": "@jupyter-widgets/base",
      "model_module_version": "1.2.0",
      "model_name": "LayoutModel",
      "state": {
       "margin": "0px 0px 10px 0px"
      }
     },
     "b0878086864c453789242bf0c6d039ff": {
      "model_module": "@jupyter-widgets/controls",
      "model_module_version": "1.5.0",
      "model_name": "HTMLModel",
      "state": {
       "layout": "IPY_MODEL_aa40b2775b0c4529a0fd2d9676255324",
       "style": "IPY_MODEL_266e5ce93c8e4e10b330a1c4da889c26",
       "value": "<p style='font-family: IBM Plex Sans, Arial, Helvetica, sans-serif; font-size: 20px; font-weight: medium;'>Circuit Properties</p>"
      }
     },
     "bbdd5be85dd247b4bb84350d0f9c1962": {
      "model_module": "@jupyter-widgets/base",
      "model_module_version": "1.2.0",
      "model_name": "LayoutModel",
      "state": {
       "width": "190px"
      }
     },
     "ca012ec0ac144fd99dd3f525a302cd9a": {
      "model_module": "@jupyter-widgets/base",
      "model_module_version": "1.2.0",
      "model_name": "LayoutModel",
      "state": {
       "width": "95px"
      }
     },
     "cee1667867c8477b9042e87cb06eb354": {
      "model_module": "@jupyter-widgets/base",
      "model_module_version": "1.2.0",
      "model_name": "LayoutModel",
      "state": {
       "grid_area": "right",
       "padding": "0px 0px 0px 0px",
       "width": "70px"
      }
     },
     "d1a4505c9c04493982b855447af2296d": {
      "model_module": "@jupyter-widgets/controls",
      "model_module_version": "1.5.0",
      "model_name": "HTMLModel",
      "state": {
       "layout": "IPY_MODEL_99b0630f5f36429896c1c9c920a89121",
       "style": "IPY_MODEL_0ac4b42cd6474c728aca0865494c9e86",
       "value": "<h5>Backend</h5>"
      }
     },
     "dd98df25e07c4171a940da31ce0046f4": {
      "model_module": "@jupyter-widgets/base",
      "model_module_version": "1.2.0",
      "model_name": "LayoutModel",
      "state": {}
     },
     "e187bdc84b1d42e7995d84e23dbdfda8": {
      "model_module": "@jupyter-widgets/controls",
      "model_module_version": "1.5.0",
      "model_name": "DescriptionStyleModel",
      "state": {
       "description_width": ""
      }
     },
     "e440a265db504628acc6564530f2048b": {
      "model_module": "@jupyter-widgets/controls",
      "model_module_version": "1.5.0",
      "model_name": "ButtonModel",
      "state": {
       "button_style": "primary",
       "description": "Clear",
       "layout": "IPY_MODEL_cee1667867c8477b9042e87cb06eb354",
       "style": "IPY_MODEL_6d59bff33f7646c4936502859886116c"
      }
     },
     "f40dbac2daf54138b5bb414eadae1b82": {
      "model_module": "@jupyter-widgets/controls",
      "model_module_version": "1.5.0",
      "model_name": "HTMLModel",
      "state": {
       "layout": "IPY_MODEL_ca012ec0ac144fd99dd3f525a302cd9a",
       "style": "IPY_MODEL_3e041bb322174ee9be611c1e4af108f2",
       "value": "<h5>Status</h5>"
      }
     }
    },
    "version_major": 2,
    "version_minor": 0
   }
  }
 },
 "nbformat": 4,
 "nbformat_minor": 5
}
