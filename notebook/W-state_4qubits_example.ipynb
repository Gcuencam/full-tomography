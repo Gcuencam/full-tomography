{
 "cells": [
  {
   "cell_type": "code",
   "execution_count": 1,
   "metadata": {},
   "outputs": [
    {
     "name": "stdout",
     "output_type": "stream",
     "text": [
      "probs: {'0001': 0.2500000000000001, '0010': 0.25, '0100': 0.24999999999999983, '1000': 0.24999999999999983}\n"
     ]
    },
    {
     "data": {
      "text/html": [
       "<pre style=\"word-wrap: normal;white-space: pre;background: #fff0;line-height: 1.1;font-family: &quot;Courier New&quot;,Courier,monospace\">     ┌──────────┐                                  ┌───┐\n",
       "q_0: ┤ Ry(2π/3) ├──────■────────────────────────■──┤ X ├\n",
       "     └──────────┘┌─────┴──────┐               ┌─┴─┐└───┘\n",
       "q_1: ────────────┤ Ry(1.9106) ├──■─────────■──┤ X ├─────\n",
       "                 └────────────┘┌─┴─┐     ┌─┴─┐└───┘     \n",
       "q_2: ──────────────────────────┤ H ├──■──┤ X ├──────────\n",
       "                               └───┘┌─┴─┐└───┘          \n",
       "q_3: ───────────────────────────────┤ X ├───────────────\n",
       "                                    └───┘               \n",
       "c: 4/═══════════════════════════════════════════════════\n",
       "                                                        </pre>"
      ],
      "text/plain": [
       "     ┌──────────┐                                  ┌───┐\n",
       "q_0: ┤ Ry(2π/3) ├──────■────────────────────────■──┤ X ├\n",
       "     └──────────┘┌─────┴──────┐               ┌─┴─┐└───┘\n",
       "q_1: ────────────┤ Ry(1.9106) ├──■─────────■──┤ X ├─────\n",
       "                 └────────────┘┌─┴─┐     ┌─┴─┐└───┘     \n",
       "q_2: ──────────────────────────┤ H ├──■──┤ X ├──────────\n",
       "                               └───┘┌─┴─┐└───┘          \n",
       "q_3: ───────────────────────────────┤ X ├───────────────\n",
       "                                    └───┘               \n",
       "c: 4/═══════════════════════════════════════════════════\n",
       "                                                        "
      ]
     },
     "execution_count": 1,
     "metadata": {},
     "output_type": "execute_result"
    }
   ],
   "source": [
    "import math as m\n",
    "import numpy as np\n",
    "\n",
    "from qiskit import QuantumCircuit, transpile\n",
    "from qiskit.providers.aer import QasmSimulator\n",
    "from qiskit.visualization import plot_histogram\n",
    "from qiskit.quantum_info import Statevector\n",
    "\n",
    "# Use Aer's qasm_simulator\n",
    "simulator = QasmSimulator()\n",
    "\n",
    "# Create a Quantum Circuit acting on the q register\n",
    "q = 4\n",
    "circuit = QuantumCircuit(q,q)\n",
    "\n",
    "circuit.ry(2*np.arccos(1/m.sqrt(q)), 0)\n",
    "circuit.cry(2*np.arccos(1/m.sqrt(q-1)), 0, 1)\n",
    "circuit.ch(1, 2)\n",
    "circuit.cx(2, 3)\n",
    "circuit.cx(1, 2)\n",
    "circuit.cx(0, 1)\n",
    "circuit.x(0)\n",
    "\n",
    "psi = Statevector.from_instruction(circuit)\n",
    "# Probabilities for measuring qubits\n",
    "probs = psi.probabilities_dict()\n",
    "print('probs: {}'.format(probs))\n",
    "\n",
    "# Compile the circuit down to low-level QASM instructions\n",
    "# supported by the backend\n",
    "compiled_circuit = transpile(circuit,simulator)\n",
    "\n",
    "# Execute the circuit on the qasm simulator\n",
    "job = simulator.run(compiled_circuit, shots=1000)\n",
    "\n",
    "#Grab results from the job\n",
    "results = job.result()\n",
    "\n",
    "# Draw the circuit\n",
    "circuit.draw()"
   ]
  },
  {
   "cell_type": "code",
   "execution_count": null,
   "metadata": {},
   "outputs": [],
   "source": []
  }
 ],
 "metadata": {
  "kernelspec": {
   "display_name": "qiskit",
   "language": "python",
   "name": "qiskit"
  },
  "language_info": {
   "codemirror_mode": {
    "name": "ipython",
    "version": 3
   },
   "file_extension": ".py",
   "mimetype": "text/x-python",
   "name": "python",
   "nbconvert_exporter": "python",
   "pygments_lexer": "ipython3",
   "version": "3.9.7"
  },
  "widgets": {
   "application/vnd.jupyter.widget-state+json": {
    "state": {},
    "version_major": 2,
    "version_minor": 0
   }
  }
 },
 "nbformat": 4,
 "nbformat_minor": 4
}
