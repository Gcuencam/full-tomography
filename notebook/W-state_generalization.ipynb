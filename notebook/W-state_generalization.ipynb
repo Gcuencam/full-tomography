{
 "cells": [
  {
   "cell_type": "code",
   "execution_count": 114,
   "metadata": {},
   "outputs": [
    {
     "name": "stdout",
     "output_type": "stream",
     "text": [
      "probs: {'00001': 0.4999999999999999, '00010': 0.4999999999999999}\n"
     ]
    },
    {
     "data": {
      "text/html": [
       "<pre style=\"word-wrap: normal;white-space: pre;background: #fff0;line-height: 1.1;font-family: &quot;Courier New&quot;,Courier,monospace\">          ┌───┐     ┌───┐\n",
       "q_0: ─|0>─┤ H ├──■──┤ X ├\n",
       "          └───┘┌─┴─┐└───┘\n",
       "q_1: ─|0>──────┤ X ├─────\n",
       "               └───┘     \n",
       "q_2: ────────────────────\n",
       "                         \n",
       "q_3: ────────────────────\n",
       "                         \n",
       "q_4: ────────────────────\n",
       "                         \n",
       "c: 5/════════════════════\n",
       "                         </pre>"
      ],
      "text/plain": [
       "          ┌───┐     ┌───┐\n",
       "q_0: ─|0>─┤ H ├──■──┤ X ├\n",
       "          └───┘┌─┴─┐└───┘\n",
       "q_1: ─|0>──────┤ X ├─────\n",
       "               └───┘     \n",
       "q_2: ────────────────────\n",
       "                         \n",
       "q_3: ────────────────────\n",
       "                         \n",
       "q_4: ────────────────────\n",
       "                         \n",
       "c: 5/════════════════════\n",
       "                         "
      ]
     },
     "execution_count": 114,
     "metadata": {},
     "output_type": "execute_result"
    }
   ],
   "source": [
    "import math as m\n",
    "import numpy as np\n",
    "\n",
    "from qiskit import QuantumCircuit, transpile\n",
    "from qiskit.providers.aer import QasmSimulator\n",
    "from qiskit.visualization import plot_histogram\n",
    "from qiskit.quantum_info import Statevector\n",
    "\n",
    "def buildWState(circuit, referencePosition: int, n: int):\n",
    "    if (n < 2):\n",
    "        raise Exception('The size must be at least two.')\n",
    "    if (referencePosition < 0):\n",
    "        raise Exception('The reference position must be at least zero.')\n",
    "    if (n > circuit.width() / 2):\n",
    "        raise Exception('The circuit does not have enough qubits.')\n",
    "    if (referencePosition + n > circuit.width() / 2):\n",
    "        raise Exception('The reference position must be lower.')\n",
    "    firstPosition = referencePosition\n",
    "    lastPosition = referencePosition + n - 1\n",
    "    _circuit = circuit.copy()\n",
    "    for i in range(firstPosition, lastPosition + 1):\n",
    "        _circuit.reset(i)\n",
    "    if (n >= 3):\n",
    "        _circuit.ry(2 * np.arccos(1 / m.sqrt(n)), firstPosition)\n",
    "        for i in range(n - 3):\n",
    "            _circuit.cry(2 * np.arccos(1 / m.sqrt(n - (i + 1))), firstPosition + i, firstPosition + i + 1)\n",
    "    if (n == 2):\n",
    "        _circuit.h(firstPosition)\n",
    "    else:\n",
    "        _circuit.ch(lastPosition - 2, lastPosition - 1)\n",
    "    for i in reversed(range(firstPosition, lastPosition)):\n",
    "        _circuit.cx(i, i + 1)\n",
    "    _circuit.x(firstPosition)\n",
    "    return _circuit\n",
    "\n",
    "# Use Aer's qasm_simulator\n",
    "simulator = QasmSimulator()\n",
    "\n",
    "# Create a Quantum Circuit acting on the q register\n",
    "q = 5\n",
    "circuit = QuantumCircuit(q,q)\n",
    "circuit = buildWState(circuit, 0, 2)\n",
    "\n",
    "psi = Statevector.from_instruction(circuit)\n",
    "# Probabilities for measuring qubits\n",
    "probs = psi.probabilities_dict()\n",
    "print('probs: {}'.format(probs))\n",
    "\n",
    "# Compile the circuit down to low-level QASM instructions\n",
    "# supported by the backend\n",
    "compiled_circuit = transpile(circuit,simulator)\n",
    "\n",
    "# Execute the circuit on the qasm simulator\n",
    "job = simulator.run(compiled_circuit, shots=1000)\n",
    "\n",
    "#Grab results from the job\n",
    "results = job.result()\n",
    "\n",
    "# Draw the circuit\n",
    "circuit.draw()"
   ]
  },
  {
   "cell_type": "code",
   "execution_count": null,
   "metadata": {},
   "outputs": [],
   "source": []
  },
  {
   "cell_type": "code",
   "execution_count": null,
   "metadata": {},
   "outputs": [],
   "source": []
  }
 ],
 "metadata": {
  "kernelspec": {
   "display_name": "qiskit",
   "language": "python",
   "name": "qiskit"
  },
  "language_info": {
   "codemirror_mode": {
    "name": "ipython",
    "version": 3
   },
   "file_extension": ".py",
   "mimetype": "text/x-python",
   "name": "python",
   "nbconvert_exporter": "python",
   "pygments_lexer": "ipython3",
   "version": "3.9.7"
  },
  "widgets": {
   "application/vnd.jupyter.widget-state+json": {
    "state": {},
    "version_major": 2,
    "version_minor": 0
   }
  }
 },
 "nbformat": 4,
 "nbformat_minor": 4
}
