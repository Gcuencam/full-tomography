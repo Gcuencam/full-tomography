{
  "metadata": {
    "language_info": {
      "codemirror_mode": {
        "name": "python",
        "version": 3
      },
      "file_extension": ".py",
      "mimetype": "text/x-python",
      "name": "python",
      "nbconvert_exporter": "python",
      "pygments_lexer": "ipython3",
      "version": "3.8"
    },
    "kernelspec": {
      "name": "python",
      "display_name": "Pyolite",
      "language": "python"
    }
  },
  "nbformat_minor": 4,
  "nbformat": 4,
  "cells": [
    {
      "cell_type": "code",
      "source": "import math as m\nimport numpy as np\n\nfrom qiskit import QuantumCircuit, transpile\nfrom qiskit.providers.aer import QasmSimulator\nfrom qiskit.visualization import plot_histogram\nfrom qiskit.quantum_info import Statevector\n\n\ndef changePhase(circuit, phases): \n    for p in phases:\n        if p<0 or p>2*m.pi:\n            raise Exception('The phases must be between 0 and 2pi.')\n            \n    _circuit = circuit.copy()\n    for i in range(len(phases)):\n        if phases[i] != 0:\n            _circuit.p(phases[i],i)\n    return _circuit\n        \ndef buildWState(circuit, referencePosition: int, n: int):\n    if (n < 2):\n        raise Exception('The size must be at least two.')\n    if (referencePosition < 0):\n        raise Exception('The reference position must be at least zero.')\n    if (n > circuit.width() / 2):\n        raise Exception('The circuit does not have enough qubits.')\n    if (referencePosition + n > circuit.width() / 2):\n        raise Exception('The reference position must be lower.')\n    firstPosition = referencePosition\n    lastPosition = referencePosition + n - 1\n    _circuit = circuit.copy()\n    for i in range(firstPosition, lastPosition + 1):\n        _circuit.reset(i)\n    if (n >= 3):\n        _circuit.ry(2 * np.arccos(1 / m.sqrt(n)), firstPosition)\n        for i in range(n - 3):\n            _circuit.cry(2 * np.arccos(1 / m.sqrt(n - (i + 1))), firstPosition + i, firstPosition + i + 1)\n    if (n == 2):\n        _circuit.h(firstPosition)\n    else:\n        _circuit.ch(lastPosition - 2, lastPosition - 1)\n    for i in reversed(range(firstPosition, lastPosition)):\n        _circuit.cx(i, i + 1)\n    _circuit.x(firstPosition)\n    \n    return _circuit\n\n# Use Aer's qasm_simulator\nsimulator = QasmSimulator()\n\n# Create a Quantum Circuit acting on the q register\nq = 3\nphases = [0,m.pi,0]\nassert len(phases)==q,'A phase for each qbit is needed.' \n\ncircuit = QuantumCircuit(q,q)\ncircuit = buildWState(circuit, 0, 3)\ncircuit.barrier()\ncircuit = changePhase(circuit, phases)\n\npsi = Statevector.from_instruction(circuit)\nprint(psi.draw())\n# Probabilities for measuring qubits\nprobs = psi.probabilities_dict()\nprint('probs: {}'.format(probs))\n\n# Compile the circuit down to low-level QASM instructions\n# supported by the backend\ncompiled_circuit = transpile(circuit,simulator)\n\n# Execute the circuit on the qasm simulator\njob = simulator.run(compiled_circuit, shots=1000)\n\n#Grab results from the job\nresults = job.result()\n\n# Draw the circuit\ncircuit.draw()",
      "metadata": {
        "trusted": true
      },
      "execution_count": 1,
      "outputs": [
        {
          "ename": "<class 'ModuleNotFoundError'>",
          "evalue": "No module named 'qiskit'",
          "traceback": [
            "\u001b[0;31m---------------------------------------------------------------------------\u001b[0m",
            "\u001b[0;31mModuleNotFoundError\u001b[0m                       Traceback (most recent call last)",
            "Input \u001b[0;32mIn [1]\u001b[0m, in \u001b[0;36m<cell line: 4>\u001b[0;34m()\u001b[0m\n\u001b[1;32m      1\u001b[0m \u001b[38;5;28;01mimport\u001b[39;00m \u001b[38;5;21;01mmath\u001b[39;00m \u001b[38;5;28;01mas\u001b[39;00m \u001b[38;5;21;01mm\u001b[39;00m\n\u001b[1;32m      2\u001b[0m \u001b[38;5;28;01mimport\u001b[39;00m \u001b[38;5;21;01mnumpy\u001b[39;00m \u001b[38;5;28;01mas\u001b[39;00m \u001b[38;5;21;01mnp\u001b[39;00m\n\u001b[0;32m----> 4\u001b[0m \u001b[38;5;28;01mfrom\u001b[39;00m \u001b[38;5;21;01mqiskit\u001b[39;00m \u001b[38;5;28;01mimport\u001b[39;00m QuantumCircuit, transpile\n\u001b[1;32m      5\u001b[0m \u001b[38;5;28;01mfrom\u001b[39;00m \u001b[38;5;21;01mqiskit\u001b[39;00m\u001b[38;5;21;01m.\u001b[39;00m\u001b[38;5;21;01mproviders\u001b[39;00m\u001b[38;5;21;01m.\u001b[39;00m\u001b[38;5;21;01maer\u001b[39;00m \u001b[38;5;28;01mimport\u001b[39;00m QasmSimulator\n\u001b[1;32m      6\u001b[0m \u001b[38;5;28;01mfrom\u001b[39;00m \u001b[38;5;21;01mqiskit\u001b[39;00m\u001b[38;5;21;01m.\u001b[39;00m\u001b[38;5;21;01mvisualization\u001b[39;00m \u001b[38;5;28;01mimport\u001b[39;00m plot_histogram\n",
            "\u001b[0;31mModuleNotFoundError\u001b[0m: No module named 'qiskit'"
          ],
          "output_type": "error"
        }
      ]
    },
    {
      "cell_type": "code",
      "source": "",
      "metadata": {},
      "execution_count": null,
      "outputs": []
    }
  ]
}