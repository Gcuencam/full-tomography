{
 "cells": [
  {
   "cell_type": "code",
   "execution_count": 3,
   "id": "3dd3255a-44e8-4121-976a-4bec93426362",
   "metadata": {},
   "outputs": [
    {
     "name": "stdout",
     "output_type": "stream",
     "text": [
      "Statevector([ 0.00000000e+00+0.j        ,  4.08248290e-01+0.40824829j,\n",
      "              3.53525080e-17+0.57735027j,  0.00000000e+00+0.j        ,\n",
      "             -1.06057524e-16-0.57735027j,  0.00000000e+00+0.j        ,\n",
      "              0.00000000e+00+0.j        ,  0.00000000e+00+0.j        ],\n",
      "            dims=(2, 2, 2))\n",
      "probs: {'001': 0.3333333333333334, '010': 0.3333333333333333, '100': 0.3333333333333333}\n"
     ]
    },
    {
     "data": {
      "image/png": "[encoded data removed]",
      "text/plain": [
       "<Figure size 568.197x264.88 with 1 Axes>"
      ]
     },
     "execution_count": 3,
     "metadata": {},
     "output_type": "execute_result"
    }
   ],
   "source": [
    "import math as m\n",
    "import numpy as np\n",
    "\n",
    "from qiskit import QuantumCircuit, transpile\n",
    "from qiskit.providers.aer import QasmSimulator\n",
    "from qiskit.visualization import plot_histogram\n",
    "from qiskit.quantum_info import Statevector\n",
    "\n",
    "\n",
    "def changePhase(circuit, phases): \n",
    "    for p in phases:\n",
    "        if p<0 or p>2*m.pi:\n",
    "            raise Exception('The phases must be between 0 and 2pi.')\n",
    "            \n",
    "    _circuit = circuit.copy()\n",
    "    for i in range(len(phases)):\n",
    "        if phases[i] != 0:\n",
    "            _circuit.p(phases[i],i)\n",
    "    return _circuit\n",
    "        \n",
    "def buildWState(circuit, referencePosition: int, n: int):\n",
    "    if (n < 2):\n",
    "        raise Exception('The size must be at least two.')\n",
    "    if (referencePosition < 0):\n",
    "        raise Exception('The reference position must be at least zero.')\n",
    "    if (n > circuit.width() / 2):\n",
    "        raise Exception('The circuit does not have enough qubits.')\n",
    "    if (referencePosition + n > circuit.width() / 2):\n",
    "        raise Exception('The reference position must be lower.')\n",
    "    firstPosition = referencePosition\n",
    "    lastPosition = referencePosition + n - 1\n",
    "    _circuit = circuit.copy()\n",
    "    for i in range(firstPosition, lastPosition + 1):\n",
    "        _circuit.reset(i)\n",
    "    if (n >= 3):\n",
    "        _circuit.ry(2 * np.arccos(1 / m.sqrt(n)), firstPosition)\n",
    "        for i in range(n - 3):\n",
    "            _circuit.cry(2 * np.arccos(1 / m.sqrt(n - (i + 1))), firstPosition + i, firstPosition + i + 1)\n",
    "    if (n == 2):\n",
    "        _circuit.h(firstPosition)\n",
    "    else:\n",
    "        _circuit.ch(lastPosition - 2, lastPosition - 1)\n",
    "    for i in reversed(range(firstPosition, lastPosition)):\n",
    "        _circuit.cx(i, i + 1)\n",
    "    _circuit.x(firstPosition)\n",
    "    \n",
    "    return _circuit\n",
    "\n",
    "# Use Aer's qasm_simulator\n",
    "simulator = QasmSimulator()\n",
    "\n",
    "# Create a Quantum Circuit acting on the q register\n",
    "q = 3\n",
    "phases = [m.pi/4,m.pi/2,3*m.pi/2]\n",
    "assert len(phases)==q,'A phase for each qbit is needed.' \n",
    "\n",
    "circuit = QuantumCircuit(q,q)\n",
    "circuit = buildWState(circuit, 0, 3)\n",
    "circuit.barrier()\n",
    "circuit = changePhase(circuit, phases)\n",
    "\n",
    "psi = Statevector.from_instruction(circuit)\n",
    "print(psi.draw())\n",
    "# Probabilities for measuring qubits\n",
    "probs = psi.probabilities_dict()\n",
    "print('probs: {}'.format(probs))\n",
    "\n",
    "# Compile the circuit down to low-level QASM instructions\n",
    "# supported by the backend\n",
    "compiled_circuit = transpile(circuit,simulator)\n",
    "\n",
    "# Execute the circuit on the qasm simulator\n",
    "job = simulator.run(compiled_circuit, shots=1000)\n",
    "\n",
    "#Grab results from the job\n",
    "results = job.result()\n",
    "\n",
    "# Draw the circuit\n",
    "circuit.draw()"
   ]
  },
  {
   "cell_type": "code",
   "execution_count": null,
   "id": "79aa1065-b5f7-41af-a8c4-4ab08c5ed118",
   "metadata": {},
   "outputs": [],
   "source": []
  }
 ],
 "metadata": {
  "kernelspec": {
   "display_name": "Qiskit v0.35.0 (ipykernel)",
   "language": "python",
   "name": "python3"
  },
  "language_info": {
   "codemirror_mode": {
    "name": "ipython",
    "version": 3
   },
   "file_extension": ".py",
   "mimetype": "text/x-python",
   "name": "python",
   "nbconvert_exporter": "python",
   "pygments_lexer": "ipython3",
   "version": "3.8.13"
  },
  "widgets": {
   "application/vnd.jupyter.widget-state+json": {
    "state": {
     "18e9f1cdd21944e3892299d3294220a2": {
      "model_module": "@jupyter-widgets/base",
      "model_module_version": "1.2.0",
      "model_name": "LayoutModel",
      "state": {
       "width": "70px"
      }
     },
     "28ca4f3010704719ae7d8c5453caf805": {
      "model_module": "@jupyter-widgets/controls",
      "model_module_version": "1.5.0",
      "model_name": "HTMLModel",
      "state": {
       "layout": "IPY_MODEL_d1b1bb0ae4984c00933931182ed42eb9",
       "style": "IPY_MODEL_e5b8120a85204fe89efbc3a205410ad3",
       "value": "<p style='font-family: IBM Plex Sans, Arial, Helvetica, sans-serif; font-size: 20px; font-weight: medium;'>Circuit Properties</p>"
      }
     },
     "2c8e5fa54b0a4045843be9bead1288a1": {
      "model_module": "@jupyter-widgets/controls",
      "model_module_version": "1.5.0",
      "model_name": "DescriptionStyleModel",
      "state": {
       "description_width": ""
      }
     },
     "5436304ca42643788d05d63f594cb016": {
      "model_module": "@jupyter-widgets/controls",
      "model_module_version": "1.5.0",
      "model_name": "HTMLModel",
      "state": {
       "layout": "IPY_MODEL_72991be1eca2435da53cd9490817d5d4",
       "style": "IPY_MODEL_f0623548204044d8b9ba404117e21994",
       "value": "<h5>Status</h5>"
      }
     },
     "6a9eb915e4144c8c9eeed574bdade92f": {
      "model_module": "@jupyter-widgets/controls",
      "model_module_version": "1.5.0",
      "model_name": "HTMLModel",
      "state": {
       "layout": "IPY_MODEL_dbc74ba5018049b281a0e1364b490c23",
       "style": "IPY_MODEL_2c8e5fa54b0a4045843be9bead1288a1",
       "value": "<h5>Message</h5>"
      }
     },
     "72991be1eca2435da53cd9490817d5d4": {
      "model_module": "@jupyter-widgets/base",
      "model_module_version": "1.2.0",
      "model_name": "LayoutModel",
      "state": {
       "width": "95px"
      }
     },
     "753bbecf4ddd4301817d93a80a6bbc8a": {
      "model_module": "@jupyter-widgets/base",
      "model_module_version": "1.2.0",
      "model_name": "LayoutModel",
      "state": {
       "grid_area": "right",
       "padding": "0px 0px 0px 0px",
       "width": "70px"
      }
     },
     "87b06fb1135741f3ba29426581aefefc": {
      "model_module": "@jupyter-widgets/controls",
      "model_module_version": "1.5.0",
      "model_name": "HTMLModel",
      "state": {
       "layout": "IPY_MODEL_e30e79b858404ca1affe435645b8a78e",
       "style": "IPY_MODEL_fb4c54f524644f6382f38aff9511f51f",
       "value": "<h5>Job ID</h5>"
      }
     },
     "93bc6f8198384a2a9d79e12998ec1529": {
      "model_module": "@jupyter-widgets/controls",
      "model_module_version": "1.5.0",
      "model_name": "HTMLModel",
      "state": {
       "layout": "IPY_MODEL_18e9f1cdd21944e3892299d3294220a2",
       "style": "IPY_MODEL_a5e7aa5a352c499c830f7ca3b38bb1ce",
       "value": "<h5>Queue</h5>"
      }
     },
     "a5e7aa5a352c499c830f7ca3b38bb1ce": {
      "model_module": "@jupyter-widgets/controls",
      "model_module_version": "1.5.0",
      "model_name": "DescriptionStyleModel",
      "state": {
       "description_width": ""
      }
     },
     "b2002034efdf4088a419a8f63ef4b13c": {
      "model_module": "@jupyter-widgets/base",
      "model_module_version": "1.2.0",
      "model_name": "LayoutModel",
      "state": {
       "grid_template_areas": "\n                                       \". . . . right \"\n                                        ",
       "grid_template_columns": "20% 20% 20% 20% 20%",
       "width": "100%"
      }
     },
     "b741ec0fd64d41c1b7fce49abb2a8196": {
      "model_module": "@jupyter-widgets/controls",
      "model_module_version": "1.5.0",
      "model_name": "ButtonStyleModel",
      "state": {}
     },
     "c880f613b09c448ba2b660ea4a62ff5e": {
      "model_module": "@jupyter-widgets/controls",
      "model_module_version": "1.5.0",
      "model_name": "HBoxModel",
      "state": {
       "children": [
        "IPY_MODEL_87b06fb1135741f3ba29426581aefefc",
        "IPY_MODEL_db74ee68864a4119a32dbdb32525c005",
        "IPY_MODEL_5436304ca42643788d05d63f594cb016",
        "IPY_MODEL_93bc6f8198384a2a9d79e12998ec1529",
        "IPY_MODEL_6a9eb915e4144c8c9eeed574bdade92f"
       ],
       "layout": "IPY_MODEL_cbb28e81a5ba4380bdff69b01c384f5d"
      }
     },
     "cbb28e81a5ba4380bdff69b01c384f5d": {
      "model_module": "@jupyter-widgets/base",
      "model_module_version": "1.2.0",
      "model_name": "LayoutModel",
      "state": {
       "margin": "0px 0px 0px 37px",
       "width": "600px"
      }
     },
     "d1b1bb0ae4984c00933931182ed42eb9": {
      "model_module": "@jupyter-widgets/base",
      "model_module_version": "1.2.0",
      "model_name": "LayoutModel",
      "state": {
       "margin": "0px 0px 10px 0px"
      }
     },
     "db74ee68864a4119a32dbdb32525c005": {
      "model_module": "@jupyter-widgets/controls",
      "model_module_version": "1.5.0",
      "model_name": "HTMLModel",
      "state": {
       "layout": "IPY_MODEL_f02b6a3d2c0a46f49d2e6c7b4e5f4159",
       "style": "IPY_MODEL_db80ab85fdef45f195ad6c6b04c4048c",
       "value": "<h5>Backend</h5>"
      }
     },
     "db758c0882654719a827881a11e790a9": {
      "model_module": "@jupyter-widgets/controls",
      "model_module_version": "1.5.0",
      "model_name": "ButtonModel",
      "state": {
       "button_style": "primary",
       "description": "Clear",
       "layout": "IPY_MODEL_753bbecf4ddd4301817d93a80a6bbc8a",
       "style": "IPY_MODEL_b741ec0fd64d41c1b7fce49abb2a8196"
      }
     },
     "db80ab85fdef45f195ad6c6b04c4048c": {
      "model_module": "@jupyter-widgets/controls",
      "model_module_version": "1.5.0",
      "model_name": "DescriptionStyleModel",
      "state": {
       "description_width": ""
      }
     },
     "dbc74ba5018049b281a0e1364b490c23": {
      "model_module": "@jupyter-widgets/base",
      "model_module_version": "1.2.0",
      "model_name": "LayoutModel",
      "state": {}
     },
     "e30e79b858404ca1affe435645b8a78e": {
      "model_module": "@jupyter-widgets/base",
      "model_module_version": "1.2.0",
      "model_name": "LayoutModel",
      "state": {
       "width": "190px"
      }
     },
     "e5b8120a85204fe89efbc3a205410ad3": {
      "model_module": "@jupyter-widgets/controls",
      "model_module_version": "1.5.0",
      "model_name": "DescriptionStyleModel",
      "state": {
       "description_width": ""
      }
     },
     "f02b6a3d2c0a46f49d2e6c7b4e5f4159": {
      "model_module": "@jupyter-widgets/base",
      "model_module_version": "1.2.0",
      "model_name": "LayoutModel",
      "state": {
       "width": "145px"
      }
     },
     "f0623548204044d8b9ba404117e21994": {
      "model_module": "@jupyter-widgets/controls",
      "model_module_version": "1.5.0",
      "model_name": "DescriptionStyleModel",
      "state": {
       "description_width": ""
      }
     },
     "f885790104354ef8a7c237f48a38d3fe": {
      "model_module": "@jupyter-widgets/controls",
      "model_module_version": "1.5.0",
      "model_name": "GridBoxModel",
      "state": {
       "children": [
        "IPY_MODEL_db758c0882654719a827881a11e790a9"
       ],
       "layout": "IPY_MODEL_b2002034efdf4088a419a8f63ef4b13c"
      }
     },
     "fb4c54f524644f6382f38aff9511f51f": {
      "model_module": "@jupyter-widgets/controls",
      "model_module_version": "1.5.0",
      "model_name": "DescriptionStyleModel",
      "state": {
       "description_width": ""
      }
     }
    },
    "version_major": 2,
    "version_minor": 0
   }
  }
 },
 "nbformat": 4,
 "nbformat_minor": 5
}
