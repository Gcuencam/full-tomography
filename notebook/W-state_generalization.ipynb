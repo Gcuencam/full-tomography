{
 "cells": [
  {
   "cell_type": "code",
   "execution_count": 1,
   "id": "8f7c78a9-8cb8-4a16-8344-5ccb1d989501",
   "metadata": {},
   "outputs": [
    {
     "name": "stderr",
     "output_type": "stream",
     "text": [
      "/opt/conda/lib/python3.8/site-packages/numpy/core/getlimits.py:499: UserWarning: The value of the smallest subnormal for <class 'numpy.float64'> type is zero.\n",
      "  setattr(self, word, getattr(machar, word).flat[0])\n",
      "/opt/conda/lib/python3.8/site-packages/numpy/core/getlimits.py:89: UserWarning: The value of the smallest subnormal for <class 'numpy.float64'> type is zero.\n",
      "  return self._float_to_str(self.smallest_subnormal)\n",
      "/opt/conda/lib/python3.8/site-packages/numpy/core/getlimits.py:499: UserWarning: The value of the smallest subnormal for <class 'numpy.float32'> type is zero.\n",
      "  setattr(self, word, getattr(machar, word).flat[0])\n",
      "/opt/conda/lib/python3.8/site-packages/numpy/core/getlimits.py:89: UserWarning: The value of the smallest subnormal for <class 'numpy.float32'> type is zero.\n",
      "  return self._float_to_str(self.smallest_subnormal)\n",
      "<frozen importlib._bootstrap>:219: RuntimeWarning: scipy._lib.messagestream.MessageStream size changed, may indicate binary incompatibility. Expected 56 from C header, got 64 from PyObject\n"
     ]
    }
   ],
   "source": [
    "import numpy as np\n",
    "\n",
    "# Importing standard Qiskit libraries\n",
    "from qiskit import QuantumCircuit, transpile, Aer, IBMQ\n",
    "from qiskit.tools.jupyter import *\n",
    "from qiskit.visualization import *\n",
    "from ibm_quantum_widgets import *\n",
    "from qiskit.providers.aer import QasmSimulator\n",
    "\n",
    "# Loading your IBM Quantum account(s)\n",
    "provider = IBMQ.load_account()"
   ]
  },
  {
   "cell_type": "code",
   "execution_count": 2,
   "id": "8bf479a1-cb97-4377-a951-c3820afd50b2",
   "metadata": {},
   "outputs": [
    {
     "name": "stdout",
     "output_type": "stream",
     "text": [
      "Statevector([ 0.        +0.00000000e+00j,  0.57735027+0.00000000e+00j,\n",
      "             -0.57735027+7.07050159e-17j,  0.        +0.00000000e+00j,\n",
      "              0.57735027+0.00000000e+00j,  0.        +0.00000000e+00j,\n",
      "              0.        +0.00000000e+00j,  0.        +0.00000000e+00j],\n",
      "            dims=(2, 2, 2))\n",
      "probs: {'001': 0.3333333333333334, '010': 0.3333333333333333, '100': 0.3333333333333333}\n"
     ]
    },
    {
     "data": {
      "image/png": "[encoded data removed]",
      "text/plain": [
       "<Figure size 568.197x264.88 with 1 Axes>"
      ]
     },
     "execution_count": 2,
     "metadata": {},
     "output_type": "execute_result"
    }
   ],
   "source": [
    "import math as m\n",
    "import numpy as np\n",
    "\n",
    "from qiskit import QuantumCircuit, transpile\n",
    "from qiskit.providers.aer import QasmSimulator\n",
    "from qiskit.visualization import plot_histogram\n",
    "from qiskit.quantum_info import Statevector\n",
    "\n",
    "\n",
    "def changePhase(circuit, phases): \n",
    "    for p in phases:\n",
    "        if p<0 or p>2*m.pi:\n",
    "            raise Exception('The phases must be between 0 and 2pi.')\n",
    "            \n",
    "    _circuit = circuit.copy()\n",
    "    for i in range(len(phases)):\n",
    "        if phases[i] != 0:\n",
    "            _circuit.p(phases[i],i)\n",
    "    return _circuit\n",
    "        \n",
    "def buildWState(circuit, referencePosition: int, n: int):\n",
    "    if (n < 2):\n",
    "        raise Exception('The size must be at least two.')\n",
    "    if (referencePosition < 0):\n",
    "        raise Exception('The reference position must be at least zero.')\n",
    "    if (n > circuit.width() / 2):\n",
    "        raise Exception('The circuit does not have enough qubits.')\n",
    "    if (referencePosition + n > circuit.width() / 2):\n",
    "        raise Exception('The reference position must be lower.')\n",
    "    firstPosition = referencePosition\n",
    "    lastPosition = referencePosition + n - 1\n",
    "    _circuit = circuit.copy()\n",
    "    for i in range(firstPosition, lastPosition + 1):\n",
    "        _circuit.reset(i)\n",
    "    if (n >= 3):\n",
    "        _circuit.ry(2 * np.arccos(1 / m.sqrt(n)), firstPosition)\n",
    "        for i in range(n - 3):\n",
    "            _circuit.cry(2 * np.arccos(1 / m.sqrt(n - (i + 1))), firstPosition + i, firstPosition + i + 1)\n",
    "    if (n == 2):\n",
    "        _circuit.h(firstPosition)\n",
    "    else:\n",
    "        _circuit.ch(lastPosition - 2, lastPosition - 1)\n",
    "    for i in reversed(range(firstPosition, lastPosition)):\n",
    "        _circuit.cx(i, i + 1)\n",
    "    _circuit.x(firstPosition)\n",
    "    \n",
    "    return _circuit\n",
    "\n",
    "# Use Aer's qasm_simulator\n",
    "simulator = QasmSimulator()\n",
    "\n",
    "# Create a Quantum Circuit acting on the q register\n",
    "q = 3\n",
    "phases = [0,m.pi,0]\n",
    "assert len(phases)==q,'A phase for each qbit is needed.' \n",
    "\n",
    "circuit = QuantumCircuit(q,q)\n",
    "circuit = buildWState(circuit, 0, 3)\n",
    "circuit.barrier()\n",
    "circuit = changePhase(circuit, phases)\n",
    "\n",
    "psi = Statevector.from_instruction(circuit)\n",
    "print(psi.draw())\n",
    "# Probabilities for measuring qubits\n",
    "probs = psi.probabilities_dict()\n",
    "print('probs: {}'.format(probs))\n",
    "\n",
    "# Compile the circuit down to low-level QASM instructions\n",
    "# supported by the backend\n",
    "compiled_circuit = transpile(circuit,simulator)\n",
    "\n",
    "# Execute the circuit on the qasm simulator\n",
    "job = simulator.run(compiled_circuit, shots=1000)\n",
    "\n",
    "#Grab results from the job\n",
    "results = job.result()\n",
    "\n",
    "# Draw the circuit\n",
    "circuit.draw()"
   ]
  },
  {
   "cell_type": "code",
   "execution_count": null,
   "id": "08dce9a3-045d-4df0-9a7b-1b0a1bcbe436",
   "metadata": {},
   "outputs": [],
   "source": []
  }
 ],
 "metadata": {
  "kernelspec": {
   "display_name": "Qiskit v0.35.0 (ipykernel)",
   "language": "python",
   "name": "python3"
  },
  "language_info": {
   "codemirror_mode": {
    "name": "ipython",
    "version": 3
   },
   "file_extension": ".py",
   "mimetype": "text/x-python",
   "name": "python",
   "nbconvert_exporter": "python",
   "pygments_lexer": "ipython3",
   "version": "3.8.13"
  },
  "widgets": {
   "application/vnd.jupyter.widget-state+json": {
    "state": {
     "03faa9d9bd54446daa816aad2c123f44": {
      "model_module": "@jupyter-widgets/controls",
      "model_module_version": "1.5.0",
      "model_name": "ButtonStyleModel",
      "state": {}
     },
     "0810cf4f49224730b8b0f49bac6d21e8": {
      "model_module": "@jupyter-widgets/base",
      "model_module_version": "1.2.0",
      "model_name": "LayoutModel",
      "state": {
       "grid_template_areas": "\n                                       \". . . . right \"\n                                        ",
       "grid_template_columns": "20% 20% 20% 20% 20%",
       "width": "100%"
      }
     },
     "0c78b885cfa64951b3a68f1233f22f7b": {
      "model_module": "@jupyter-widgets/controls",
      "model_module_version": "1.5.0",
      "model_name": "HTMLModel",
      "state": {
       "layout": "IPY_MODEL_dafa6280b4184bf88a69abc82f9d63de",
       "style": "IPY_MODEL_929b373871bc49239678ee687f02218b",
       "value": "<h5>Message</h5>"
      }
     },
     "14c3c7b7470c43b193658cd905b8fa23": {
      "model_module": "@jupyter-widgets/controls",
      "model_module_version": "1.5.0",
      "model_name": "DescriptionStyleModel",
      "state": {
       "description_width": ""
      }
     },
     "242d151b10c94ab1b1435a55c8e470c3": {
      "model_module": "@jupyter-widgets/controls",
      "model_module_version": "1.5.0",
      "model_name": "DescriptionStyleModel",
      "state": {
       "description_width": ""
      }
     },
     "299c8985c72b4ea1892c1ab0394a319f": {
      "model_module": "@jupyter-widgets/base",
      "model_module_version": "1.2.0",
      "model_name": "LayoutModel",
      "state": {
       "margin": "0px 0px 10px 0px"
      }
     },
     "3ad7c0466d0d4a5a819ca5b70d7f60b3": {
      "model_module": "@jupyter-widgets/base",
      "model_module_version": "1.2.0",
      "model_name": "LayoutModel",
      "state": {
       "width": "95px"
      }
     },
     "423c54c4b05e4532aa91595289fb3d63": {
      "model_module": "@jupyter-widgets/controls",
      "model_module_version": "1.5.0",
      "model_name": "GridBoxModel",
      "state": {
       "children": [
        "IPY_MODEL_b923cb7d43ff474794a74e597ab17038"
       ],
       "layout": "IPY_MODEL_0810cf4f49224730b8b0f49bac6d21e8"
      }
     },
     "50a9efac081a400cab68083cb7fc06fe": {
      "model_module": "@jupyter-widgets/base",
      "model_module_version": "1.2.0",
      "model_name": "LayoutModel",
      "state": {
       "margin": "0px 0px 0px 37px",
       "width": "600px"
      }
     },
     "541b8ea1ac52451ea010945d0cb10c16": {
      "model_module": "@jupyter-widgets/base",
      "model_module_version": "1.2.0",
      "model_name": "LayoutModel",
      "state": {
       "width": "70px"
      }
     },
     "5b98307d5a7b42589c6c2d0b9ea22cd3": {
      "model_module": "@jupyter-widgets/controls",
      "model_module_version": "1.5.0",
      "model_name": "HTMLModel",
      "state": {
       "layout": "IPY_MODEL_61a334e23be94cc39727f5ec3484953e",
       "style": "IPY_MODEL_eb42dc99ccd0400a88edae9c20bab5e9",
       "value": "<h5>Job ID</h5>"
      }
     },
     "61a334e23be94cc39727f5ec3484953e": {
      "model_module": "@jupyter-widgets/base",
      "model_module_version": "1.2.0",
      "model_name": "LayoutModel",
      "state": {
       "width": "190px"
      }
     },
     "6e684ebc8acc4dc9b9981bee63d10198": {
      "model_module": "@jupyter-widgets/base",
      "model_module_version": "1.2.0",
      "model_name": "LayoutModel",
      "state": {
       "width": "145px"
      }
     },
     "719a102df57f4a408a08ac5dcaa6e9d4": {
      "model_module": "@jupyter-widgets/controls",
      "model_module_version": "1.5.0",
      "model_name": "HTMLModel",
      "state": {
       "layout": "IPY_MODEL_3ad7c0466d0d4a5a819ca5b70d7f60b3",
       "style": "IPY_MODEL_14c3c7b7470c43b193658cd905b8fa23",
       "value": "<h5>Status</h5>"
      }
     },
     "89a7f4af5c6c49fa8f73c54d2d9e2bb3": {
      "model_module": "@jupyter-widgets/controls",
      "model_module_version": "1.5.0",
      "model_name": "DescriptionStyleModel",
      "state": {
       "description_width": ""
      }
     },
     "9147437ce9ba4fc08d54d2e744050a46": {
      "model_module": "@jupyter-widgets/controls",
      "model_module_version": "1.5.0",
      "model_name": "HTMLModel",
      "state": {
       "layout": "IPY_MODEL_299c8985c72b4ea1892c1ab0394a319f",
       "style": "IPY_MODEL_242d151b10c94ab1b1435a55c8e470c3",
       "value": "<p style='font-family: IBM Plex Sans, Arial, Helvetica, sans-serif; font-size: 20px; font-weight: medium;'>Circuit Properties</p>"
      }
     },
     "929b373871bc49239678ee687f02218b": {
      "model_module": "@jupyter-widgets/controls",
      "model_module_version": "1.5.0",
      "model_name": "DescriptionStyleModel",
      "state": {
       "description_width": ""
      }
     },
     "9a085d00d3584e708558c002f750469b": {
      "model_module": "@jupyter-widgets/base",
      "model_module_version": "1.2.0",
      "model_name": "LayoutModel",
      "state": {
       "grid_area": "right",
       "padding": "0px 0px 0px 0px",
       "width": "70px"
      }
     },
     "a9dcc0a1c88a483ca9182975ee3492a7": {
      "model_module": "@jupyter-widgets/controls",
      "model_module_version": "1.5.0",
      "model_name": "HTMLModel",
      "state": {
       "layout": "IPY_MODEL_541b8ea1ac52451ea010945d0cb10c16",
       "style": "IPY_MODEL_89a7f4af5c6c49fa8f73c54d2d9e2bb3",
       "value": "<h5>Queue</h5>"
      }
     },
     "b36a513fd6c7442d922661ab320d218c": {
      "model_module": "@jupyter-widgets/controls",
      "model_module_version": "1.5.0",
      "model_name": "HTMLModel",
      "state": {
       "layout": "IPY_MODEL_6e684ebc8acc4dc9b9981bee63d10198",
       "style": "IPY_MODEL_b5082bbc7cd54c96ba82665fc8a8230f",
       "value": "<h5>Backend</h5>"
      }
     },
     "b5082bbc7cd54c96ba82665fc8a8230f": {
      "model_module": "@jupyter-widgets/controls",
      "model_module_version": "1.5.0",
      "model_name": "DescriptionStyleModel",
      "state": {
       "description_width": ""
      }
     },
     "b923cb7d43ff474794a74e597ab17038": {
      "model_module": "@jupyter-widgets/controls",
      "model_module_version": "1.5.0",
      "model_name": "ButtonModel",
      "state": {
       "button_style": "primary",
       "description": "Clear",
       "layout": "IPY_MODEL_9a085d00d3584e708558c002f750469b",
       "style": "IPY_MODEL_03faa9d9bd54446daa816aad2c123f44"
      }
     },
     "dafa6280b4184bf88a69abc82f9d63de": {
      "model_module": "@jupyter-widgets/base",
      "model_module_version": "1.2.0",
      "model_name": "LayoutModel",
      "state": {}
     },
     "eb42dc99ccd0400a88edae9c20bab5e9": {
      "model_module": "@jupyter-widgets/controls",
      "model_module_version": "1.5.0",
      "model_name": "DescriptionStyleModel",
      "state": {
       "description_width": ""
      }
     },
     "f06b77be675742f39fbca1dac4222fa2": {
      "model_module": "@jupyter-widgets/controls",
      "model_module_version": "1.5.0",
      "model_name": "HBoxModel",
      "state": {
       "children": [
        "IPY_MODEL_5b98307d5a7b42589c6c2d0b9ea22cd3",
        "IPY_MODEL_b36a513fd6c7442d922661ab320d218c",
        "IPY_MODEL_719a102df57f4a408a08ac5dcaa6e9d4",
        "IPY_MODEL_a9dcc0a1c88a483ca9182975ee3492a7",
        "IPY_MODEL_0c78b885cfa64951b3a68f1233f22f7b"
       ],
       "layout": "IPY_MODEL_50a9efac081a400cab68083cb7fc06fe"
      }
     }
    },
    "version_major": 2,
    "version_minor": 0
   }
  }
 },
 "nbformat": 4,
 "nbformat_minor": 5
}
